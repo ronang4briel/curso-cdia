{
  "nbformat": 4,
  "nbformat_minor": 0,
  "metadata": {
    "colab": {
      "provenance": [],
      "include_colab_link": true
    },
    "kernelspec": {
      "name": "ir",
      "display_name": "R"
    },
    "language_info": {
      "name": "R"
    }
  },
  "cells": [
    {
      "cell_type": "markdown",
      "metadata": {
        "id": "view-in-github",
        "colab_type": "text"
      },
      "source": [
        "<a href=\"https://colab.research.google.com/github/ronang4briel/curso-cdia/blob/main/ModeloLabs.ipynb\" target=\"_parent\"><img src=\"https://colab.research.google.com/assets/colab-badge.svg\" alt=\"Open In Colab\"/></a>"
      ]
    },
    {
      "cell_type": "markdown",
      "source": [
        "# Instruções Obrigatórias"
      ],
      "metadata": {
        "id": "xfSJWY_rs8uU"
      }
    },
    {
      "cell_type": "markdown",
      "source": [
        "1. Faça uma cópia deste Notebook (Arquivo/Salvar uma Cópia no Drive) antes de iniciar qualquer atividade.\n",
        "\n",
        "<div>\n",
        "  <img src=\"https://github.com/benilton/cursos/blob/main/imgs/colab-copy-template.png?raw=true\" width=\"50%\">\n",
        "</div>\n",
        "\n",
        "2. Em seguida, execute o código disponibilizado abaixo. Este passo deve durar cerca de 1 minuto. Basta clicar no \"botão de play\" e aguardar.\n",
        "\n",
        "<div>\n",
        "  <img src=\"https://github.com/benilton/cursos/blob/main/imgs/run-setup.png?raw=true\" width=\"90%\">\n",
        "</div>\n",
        "\n",
        "3. Ao fim do processo, uma série de resultados de configuração aparecerá e você poderá ignorá-las completamente.\n",
        "\n",
        "<div>\n",
        "  <img src=\"https://github.com/benilton/cursos/blob/main/imgs/setup-results.png?raw=true\" width=\"90%\">\n",
        "</div>"
      ],
      "metadata": {
        "id": "78r3DrTomdQQ"
      }
    },
    {
      "cell_type": "code",
      "source": [
        "source(\"https://raw.githubusercontent.com/benilton/cursos/refs/heads/main/rcode/setup_r2u.R\")"
      ],
      "metadata": {
        "id": "APEiMQBbqZRS",
        "collapsed": true
      },
      "execution_count": null,
      "outputs": []
    },
    {
      "cell_type": "markdown",
      "source": [
        "## Carregando Pacotes Necessários"
      ],
      "metadata": {
        "id": "Mr8q9wfJs0tI"
      }
    },
    {
      "cell_type": "code",
      "source": [
        "library(tidyverse)\n",
        "library(readxl)\n",
        "library(speff2trial)"
      ],
      "metadata": {
        "id": "hbmIkHZdtJX9",
        "colab": {
          "base_uri": "https://localhost:8080/"
        },
        "outputId": "5972920e-b7e8-4218-99e3-4f4f0e4c90f7"
      },
      "execution_count": null,
      "outputs": [
        {
          "output_type": "stream",
          "name": "stderr",
          "text": [
            "Loading required package: leaps\n",
            "\n",
            "Loading required package: survival\n",
            "\n"
          ]
        }
      ]
    },
    {
      "cell_type": "markdown",
      "source": [
        "# Testes de Hipóteses"
      ],
      "metadata": {
        "id": "ehmpaiXleBHd"
      }
    },
    {
      "cell_type": "markdown",
      "source": [
        "## Conjunto de dados: ACTG175"
      ],
      "metadata": {
        "id": "zkqNhmFDZTn3"
      }
    },
    {
      "cell_type": "markdown",
      "source": [
        "O ACTG 175 foi um ensaio clínico randomizado para comparar a monoterapia com zidovudina ou didanosina com a terapia combinada de zidovudina e didanosina ou zidovudina e zalcitabina em adultos infectados com o vírus da imunodeficiência humana tipo I, cujas contagens de células T CD4 estavam entre 200 e 500 por milímetro cúbico.\n",
        "\n",
        "O estudo foi publicado no artigo:\n",
        "Hammer SM, et al. (1996), \"A trial comparing nucleoside monotherapy with combination therapy in HIV-infected adults with CD4 cell counts from 200 to 500 per cubic millimeter.\", New England Journal of Medicine, 335:1081–1090.\n",
        "https://pubmed.ncbi.nlm.nih.gov/8813038/\n",
        "\n",
        "Este conjunto de dados contém 2139 observações com as seguintes 27 variáveis:\n",
        "\n",
        "| Variável | Descrição |\n",
        "|----------|-----------|\n",
        "| `pidnum` | Número de identificação do paciente |\n",
        "| `age` | Idade em anos no início do estudo |\n",
        "| `wtkg` | Peso em kg no início do estudo |\n",
        "| `hemo` | Hemofilia (0 = não, 1 = sim) |\n",
        "| `homo` | Atividade homossexual (0 = não, 1 = sim) |\n",
        "| `drugs` | Histórico de uso de drogas intravenosas (0 = não, 1 = sim) |\n",
        "| `karnof` | Escore de Karnofsky (em uma escala de 0 a 100) |\n",
        "| `oprior` | Terapia antirretroviral não zidovudina antes do início do tratamento do estudo (0 = não, 1 = sim) |\n",
        "| `z30` | Uso de zidovudina nos 30 dias antes do início do tratamento (0 = não, 1 = sim) |\n",
        "| `zprior` | Uso de zidovudina antes do início do tratamento (0 = não, 1 = sim) |\n",
        "| `preanti` | Número de dias de terapia antirretroviral previamente recebida |\n",
        "| `race` | Raça (0 = branco, 1 = não-branco) |\n",
        "| `gender` | Gênero (0 = feminino, 1 = masculino) |\n",
        "| `str2` | Histórico de antirretroviral (0 = ingênuo, 1 = experiente) |\n",
        "| `strat` | Estratificação do histórico antirretroviral (1 = \"antirretroviral ingênuo\", 2 = \"> 1 mas ≤ 52 semanas de terapia antirretroviral prévia\", 3 = \"> 52 semanas\") |\n",
        "| `symptom` | Indicador sintomático (0 = assintomático, 1 = sintomático) |\n",
        "| `treat` | Indicador de tratamento (0 = apenas zidovudina, 1 = outras terapias) |\n",
        "| `offtrt` | Indicador de interrupção do tratamento antes de 96 ±5 semanas (0 = não, 1 = sim) |\n",
        "| `cd40` | Contagem de células T CD4 no início do estudo |\n",
        "| `cd420` | Contagem de células T CD4 em 20 ±5 semanas |\n",
        "| `cd496` | Contagem de células T CD4 em 96 ±5 semanas (NA se faltando) |\n",
        "| `r` | Contagem de células T CD4 em 96 ±5 semanas ausente (0 = ausente, 1 = observado) |\n",
        "| `cd80` | Contagem de células T CD8 no início do estudo |\n",
        "| `cd820` | Contagem de células T CD8 em 20 ±5 semanas |\n",
        "| `cens` | Indicador de observação do evento em dias |\n",
        "| `days` | Número de dias até a primeira ocorrência de: (i) uma queda de pelo menos 50 na contagem de células T CD4, (ii) um evento indicando progressão para AIDS ou (iii) morte |\n",
        "| `arms` | Grupo de tratamento (0 = zidovudina, 1 = zidovudina e didanosina, 2 = zidovudina e zalcitabina, 3 = didanosina) |"
      ],
      "metadata": {
        "id": "2yxYjMGiZWFQ"
      }
    },
    {
      "cell_type": "code",
      "source": [
        "data(ACTG175)\n",
        "ACTG175 %>% head()"
      ],
      "metadata": {
        "colab": {
          "base_uri": "https://localhost:8080/",
          "height": 286
        },
        "id": "zDT_5ottaWLe",
        "outputId": "e982acaa-97d1-4718-fd77-4f94af749c5a"
      },
      "execution_count": null,
      "outputs": [
        {
          "output_type": "display_data",
          "data": {
            "text/html": [
              "<table class=\"dataframe\">\n",
              "<caption>A data.frame: 6 × 27</caption>\n",
              "<thead>\n",
              "\t<tr><th></th><th scope=col>pidnum</th><th scope=col>age</th><th scope=col>wtkg</th><th scope=col>hemo</th><th scope=col>homo</th><th scope=col>drugs</th><th scope=col>karnof</th><th scope=col>oprior</th><th scope=col>z30</th><th scope=col>zprior</th><th scope=col>⋯</th><th scope=col>offtrt</th><th scope=col>cd40</th><th scope=col>cd420</th><th scope=col>cd496</th><th scope=col>r</th><th scope=col>cd80</th><th scope=col>cd820</th><th scope=col>cens</th><th scope=col>days</th><th scope=col>arms</th></tr>\n",
              "\t<tr><th></th><th scope=col>&lt;int&gt;</th><th scope=col>&lt;int&gt;</th><th scope=col>&lt;dbl&gt;</th><th scope=col>&lt;int&gt;</th><th scope=col>&lt;int&gt;</th><th scope=col>&lt;int&gt;</th><th scope=col>&lt;int&gt;</th><th scope=col>&lt;int&gt;</th><th scope=col>&lt;int&gt;</th><th scope=col>&lt;int&gt;</th><th scope=col>⋯</th><th scope=col>&lt;int&gt;</th><th scope=col>&lt;int&gt;</th><th scope=col>&lt;int&gt;</th><th scope=col>&lt;int&gt;</th><th scope=col>&lt;int&gt;</th><th scope=col>&lt;int&gt;</th><th scope=col>&lt;int&gt;</th><th scope=col>&lt;int&gt;</th><th scope=col>&lt;int&gt;</th><th scope=col>&lt;int&gt;</th></tr>\n",
              "</thead>\n",
              "<tbody>\n",
              "\t<tr><th scope=row>1</th><td>10056</td><td>48</td><td>89.8128</td><td>0</td><td>0</td><td>0</td><td>100</td><td>0</td><td>0</td><td>1</td><td>⋯</td><td>0</td><td>422</td><td>477</td><td>660</td><td>1</td><td> 566</td><td> 324</td><td>0</td><td> 948</td><td>2</td></tr>\n",
              "\t<tr><th scope=row>2</th><td>10059</td><td>61</td><td>49.4424</td><td>0</td><td>0</td><td>0</td><td> 90</td><td>0</td><td>1</td><td>1</td><td>⋯</td><td>0</td><td>162</td><td>218</td><td> NA</td><td>0</td><td> 392</td><td> 564</td><td>1</td><td>1002</td><td>3</td></tr>\n",
              "\t<tr><th scope=row>3</th><td>10089</td><td>45</td><td>88.4520</td><td>0</td><td>1</td><td>1</td><td> 90</td><td>0</td><td>1</td><td>1</td><td>⋯</td><td>1</td><td>326</td><td>274</td><td>122</td><td>1</td><td>2063</td><td>1893</td><td>0</td><td> 961</td><td>3</td></tr>\n",
              "\t<tr><th scope=row>4</th><td>10093</td><td>47</td><td>85.2768</td><td>0</td><td>1</td><td>0</td><td>100</td><td>0</td><td>1</td><td>1</td><td>⋯</td><td>0</td><td>287</td><td>394</td><td> NA</td><td>0</td><td>1590</td><td> 966</td><td>0</td><td>1166</td><td>3</td></tr>\n",
              "\t<tr><th scope=row>5</th><td>10124</td><td>43</td><td>66.6792</td><td>0</td><td>1</td><td>0</td><td>100</td><td>0</td><td>1</td><td>1</td><td>⋯</td><td>0</td><td>504</td><td>353</td><td>660</td><td>1</td><td> 870</td><td> 782</td><td>0</td><td>1090</td><td>0</td></tr>\n",
              "\t<tr><th scope=row>6</th><td>10140</td><td>46</td><td>88.9056</td><td>0</td><td>1</td><td>1</td><td>100</td><td>0</td><td>1</td><td>1</td><td>⋯</td><td>0</td><td>235</td><td>339</td><td>264</td><td>1</td><td> 860</td><td>1060</td><td>0</td><td>1181</td><td>1</td></tr>\n",
              "</tbody>\n",
              "</table>\n"
            ],
            "text/markdown": "\nA data.frame: 6 × 27\n\n| <!--/--> | pidnum &lt;int&gt; | age &lt;int&gt; | wtkg &lt;dbl&gt; | hemo &lt;int&gt; | homo &lt;int&gt; | drugs &lt;int&gt; | karnof &lt;int&gt; | oprior &lt;int&gt; | z30 &lt;int&gt; | zprior &lt;int&gt; | ⋯ ⋯ | offtrt &lt;int&gt; | cd40 &lt;int&gt; | cd420 &lt;int&gt; | cd496 &lt;int&gt; | r &lt;int&gt; | cd80 &lt;int&gt; | cd820 &lt;int&gt; | cens &lt;int&gt; | days &lt;int&gt; | arms &lt;int&gt; |\n|---|---|---|---|---|---|---|---|---|---|---|---|---|---|---|---|---|---|---|---|---|---|\n| 1 | 10056 | 48 | 89.8128 | 0 | 0 | 0 | 100 | 0 | 0 | 1 | ⋯ | 0 | 422 | 477 | 660 | 1 |  566 |  324 | 0 |  948 | 2 |\n| 2 | 10059 | 61 | 49.4424 | 0 | 0 | 0 |  90 | 0 | 1 | 1 | ⋯ | 0 | 162 | 218 |  NA | 0 |  392 |  564 | 1 | 1002 | 3 |\n| 3 | 10089 | 45 | 88.4520 | 0 | 1 | 1 |  90 | 0 | 1 | 1 | ⋯ | 1 | 326 | 274 | 122 | 1 | 2063 | 1893 | 0 |  961 | 3 |\n| 4 | 10093 | 47 | 85.2768 | 0 | 1 | 0 | 100 | 0 | 1 | 1 | ⋯ | 0 | 287 | 394 |  NA | 0 | 1590 |  966 | 0 | 1166 | 3 |\n| 5 | 10124 | 43 | 66.6792 | 0 | 1 | 0 | 100 | 0 | 1 | 1 | ⋯ | 0 | 504 | 353 | 660 | 1 |  870 |  782 | 0 | 1090 | 0 |\n| 6 | 10140 | 46 | 88.9056 | 0 | 1 | 1 | 100 | 0 | 1 | 1 | ⋯ | 0 | 235 | 339 | 264 | 1 |  860 | 1060 | 0 | 1181 | 1 |\n\n",
            "text/latex": "A data.frame: 6 × 27\n\\begin{tabular}{r|lllllllllllllllllllll}\n  & pidnum & age & wtkg & hemo & homo & drugs & karnof & oprior & z30 & zprior & ⋯ & offtrt & cd40 & cd420 & cd496 & r & cd80 & cd820 & cens & days & arms\\\\\n  & <int> & <int> & <dbl> & <int> & <int> & <int> & <int> & <int> & <int> & <int> & ⋯ & <int> & <int> & <int> & <int> & <int> & <int> & <int> & <int> & <int> & <int>\\\\\n\\hline\n\t1 & 10056 & 48 & 89.8128 & 0 & 0 & 0 & 100 & 0 & 0 & 1 & ⋯ & 0 & 422 & 477 & 660 & 1 &  566 &  324 & 0 &  948 & 2\\\\\n\t2 & 10059 & 61 & 49.4424 & 0 & 0 & 0 &  90 & 0 & 1 & 1 & ⋯ & 0 & 162 & 218 &  NA & 0 &  392 &  564 & 1 & 1002 & 3\\\\\n\t3 & 10089 & 45 & 88.4520 & 0 & 1 & 1 &  90 & 0 & 1 & 1 & ⋯ & 1 & 326 & 274 & 122 & 1 & 2063 & 1893 & 0 &  961 & 3\\\\\n\t4 & 10093 & 47 & 85.2768 & 0 & 1 & 0 & 100 & 0 & 1 & 1 & ⋯ & 0 & 287 & 394 &  NA & 0 & 1590 &  966 & 0 & 1166 & 3\\\\\n\t5 & 10124 & 43 & 66.6792 & 0 & 1 & 0 & 100 & 0 & 1 & 1 & ⋯ & 0 & 504 & 353 & 660 & 1 &  870 &  782 & 0 & 1090 & 0\\\\\n\t6 & 10140 & 46 & 88.9056 & 0 & 1 & 1 & 100 & 0 & 1 & 1 & ⋯ & 0 & 235 & 339 & 264 & 1 &  860 & 1060 & 0 & 1181 & 1\\\\\n\\end{tabular}\n",
            "text/plain": [
              "  pidnum age wtkg    hemo homo drugs karnof oprior z30 zprior ⋯ offtrt cd40\n",
              "1 10056  48  89.8128 0    0    0     100    0      0   1      ⋯ 0      422 \n",
              "2 10059  61  49.4424 0    0    0      90    0      1   1      ⋯ 0      162 \n",
              "3 10089  45  88.4520 0    1    1      90    0      1   1      ⋯ 1      326 \n",
              "4 10093  47  85.2768 0    1    0     100    0      1   1      ⋯ 0      287 \n",
              "5 10124  43  66.6792 0    1    0     100    0      1   1      ⋯ 0      504 \n",
              "6 10140  46  88.9056 0    1    1     100    0      1   1      ⋯ 0      235 \n",
              "  cd420 cd496 r cd80 cd820 cens days arms\n",
              "1 477   660   1  566  324  0     948 2   \n",
              "2 218    NA   0  392  564  1    1002 3   \n",
              "3 274   122   1 2063 1893  0     961 3   \n",
              "4 394    NA   0 1590  966  0    1166 3   \n",
              "5 353   660   1  870  782  0    1090 0   \n",
              "6 339   264   1  860 1060  0    1181 1   "
            ]
          },
          "metadata": {}
        }
      ]
    },
    {
      "cell_type": "markdown",
      "source": [
        "## Teste de Hipótese para 1 Média"
      ],
      "metadata": {
        "id": "zcFbnf3ZbLzt"
      }
    },
    {
      "cell_type": "markdown",
      "source": [
        "**Objetivo**: Testar se a média da contagem de células T CD4 no início do estudo (variável cd40) é significativamente diferente de um valor de referência, como 350 células/mm³.\n",
        "\n",
        "1. Calcule a média e o desvio padrão da contagem de células T CD4 no início do estudo.\n",
        "2. Obtenha um intervalo de confiança de 95% para a contagem média de células T CB4.\n",
        "3. Formule as hipóteses:\n",
        "   - H0: A média da contagem de células T CD4 é 350.\n",
        "   - H1: A média da contagem de células T CD4 é diferente de 350.\n",
        "4. Realize o teste t para uma média.\n",
        "5. Interprete o valor-p e conclua se há evidência para rejeitar a hipótese nula."
      ],
      "metadata": {
        "id": "T96IEFQBbPUh"
      }
    },
    {
      "cell_type": "code",
      "source": [
        "ACTG175 %>% summarise(Media = mean(cd40),\n",
        "                      SD = sd(cd40),\n",
        "                      min = min(cd40),\n",
        "                      max = max(cd40))"
      ],
      "metadata": {
        "colab": {
          "base_uri": "https://localhost:8080/",
          "height": 129
        },
        "id": "wap5zOPAqbe0",
        "outputId": "1b7ccffd-1f25-4e23-f661-1ce31d9f7c93"
      },
      "execution_count": null,
      "outputs": [
        {
          "output_type": "display_data",
          "data": {
            "text/html": [
              "<table class=\"dataframe\">\n",
              "<caption>A data.frame: 1 × 4</caption>\n",
              "<thead>\n",
              "\t<tr><th scope=col>Media</th><th scope=col>SD</th><th scope=col>min</th><th scope=col>max</th></tr>\n",
              "\t<tr><th scope=col>&lt;dbl&gt;</th><th scope=col>&lt;dbl&gt;</th><th scope=col>&lt;int&gt;</th><th scope=col>&lt;int&gt;</th></tr>\n",
              "</thead>\n",
              "<tbody>\n",
              "\t<tr><td>350.5012</td><td>118.5739</td><td>0</td><td>1199</td></tr>\n",
              "</tbody>\n",
              "</table>\n"
            ],
            "text/markdown": "\nA data.frame: 1 × 4\n\n| Media &lt;dbl&gt; | SD &lt;dbl&gt; | min &lt;int&gt; | max &lt;int&gt; |\n|---|---|---|---|\n| 350.5012 | 118.5739 | 0 | 1199 |\n\n",
            "text/latex": "A data.frame: 1 × 4\n\\begin{tabular}{llll}\n Media & SD & min & max\\\\\n <dbl> & <dbl> & <int> & <int>\\\\\n\\hline\n\t 350.5012 & 118.5739 & 0 & 1199\\\\\n\\end{tabular}\n",
            "text/plain": [
              "  Media    SD       min max \n",
              "1 350.5012 118.5739 0   1199"
            ]
          },
          "metadata": {}
        }
      ]
    },
    {
      "cell_type": "code",
      "source": [
        "boxplot(ACTG175$cd40, col = \"lightblue\", las= 1, horizontal = TRUE)"
      ],
      "metadata": {
        "colab": {
          "base_uri": "https://localhost:8080/",
          "height": 437
        },
        "id": "uqFoiAurshV7",
        "outputId": "521024ef-334e-45f0-961d-f46d5f88b5b9"
      },
      "execution_count": null,
      "outputs": [
        {
          "output_type": "display_data",
          "data": {
            "text/plain": [
              "plot without title"
            ],
            "image/png": "[encoded data removed]"
          },
          "metadata": {
            "image/png": {
              "width": 420,
              "height": 420
            }
          }
        }
      ]
    },
    {
      "cell_type": "code",
      "source": [
        "confint(lm(ACTG175$cd40 ~1 ))"
      ],
      "metadata": {
        "colab": {
          "base_uri": "https://localhost:8080/",
          "height": 98
        },
        "id": "aQmJFBAMrBAP",
        "outputId": "95ca7461-270c-4ceb-f01f-3a05e2c53e32"
      },
      "execution_count": null,
      "outputs": [
        {
          "output_type": "display_data",
          "data": {
            "text/html": [
              "<table class=\"dataframe\">\n",
              "<caption>A matrix: 1 × 2 of type dbl</caption>\n",
              "<thead>\n",
              "\t<tr><th></th><th scope=col>2.5 %</th><th scope=col>97.5 %</th></tr>\n",
              "</thead>\n",
              "<tbody>\n",
              "\t<tr><th scope=row>(Intercept)</th><td>345.4734</td><td>355.529</td></tr>\n",
              "</tbody>\n",
              "</table>\n"
            ],
            "text/markdown": "\nA matrix: 1 × 2 of type dbl\n\n| <!--/--> | 2.5 % | 97.5 % |\n|---|---|---|\n| (Intercept) | 345.4734 | 355.529 |\n\n",
            "text/latex": "A matrix: 1 × 2 of type dbl\n\\begin{tabular}{r|ll}\n  & 2.5 \\% & 97.5 \\%\\\\\n\\hline\n\t(Intercept) & 345.4734 & 355.529\\\\\n\\end{tabular}\n",
            "text/plain": [
              "            2.5 %    97.5 % \n",
              "(Intercept) 345.4734 355.529"
            ]
          },
          "metadata": {}
        }
      ]
    },
    {
      "cell_type": "code",
      "source": [
        "t.test(ACTG175$cd40, mu = 350)"
      ],
      "metadata": {
        "colab": {
          "base_uri": "https://localhost:8080/",
          "height": 213
        },
        "id": "-BKTNUjkbOv4",
        "outputId": "ba943ebd-3ae0-4812-85e6-4eab1894263c"
      },
      "execution_count": null,
      "outputs": [
        {
          "output_type": "display_data",
          "data": {
            "text/plain": [
              "\n",
              "\tOne Sample t-test\n",
              "\n",
              "data:  ACTG175$cd40\n",
              "t = 0.19548, df = 2138, p-value = 0.845\n",
              "alternative hypothesis: true mean is not equal to 350\n",
              "95 percent confidence interval:\n",
              " 345.4734 355.5290\n",
              "sample estimates:\n",
              "mean of x \n",
              " 350.5012 \n"
            ]
          },
          "metadata": {}
        }
      ]
    },
    {
      "cell_type": "markdown",
      "source": [
        "## Teste de Hipóteses para 1 Proporção"
      ],
      "metadata": {
        "id": "ZYFSKKAYboNz"
      }
    },
    {
      "cell_type": "markdown",
      "source": [
        "**Objetivo**: Testar se a proporção de pacientes com histórico de uso de drogas intravenosas (variável `drugs`) é significativamente diferente de 0,25.\n",
        "\n",
        "1. Calcule a proporção de pacientes com histórico de uso de drogas intravenosas.\n",
        "2. Formule as hipóteses:\n",
        "   - H0: A proporção de pacientes com histórico de uso de drogas intravenosas é 0,25.\n",
        "   - H1: A proporção de pacientes com histórico de uso de drogas intravenosas é diferente de 0,25.\n",
        "3. Use um teste de proporção\n",
        "4. Interprete o resultado e avalie a evidência para rejeitar a hipótese nula."
      ],
      "metadata": {
        "id": "0DqckLRDbrlo"
      }
    },
    {
      "cell_type": "code",
      "source": [
        "prop.test(sum(ACTG175$drugs == 1), length(ACTG175$drugs), p = 0.25)"
      ],
      "metadata": {
        "id": "5OD-8xyLb9eE",
        "colab": {
          "base_uri": "https://localhost:8080/",
          "height": 213
        },
        "outputId": "63ee5ad6-7075-4e86-8472-06a8e853f5be"
      },
      "execution_count": null,
      "outputs": [
        {
          "output_type": "display_data",
          "data": {
            "text/plain": [
              "\n",
              "\t1-sample proportions test with continuity correction\n",
              "\n",
              "data:  sum(ACTG175$drugs == 1) out of length(ACTG175$drugs), null probability 0.25\n",
              "X-squared = 159.91, df = 1, p-value < 2.2e-16\n",
              "alternative hypothesis: true p is not equal to 0.25\n",
              "95 percent confidence interval:\n",
              " 0.1174901 0.1465927\n",
              "sample estimates:\n",
              "        p \n",
              "0.1313698 \n"
            ]
          },
          "metadata": {}
        }
      ]
    },
    {
      "cell_type": "markdown",
      "source": [
        "## Teste de Hipótese para 2 Médias"
      ],
      "metadata": {
        "id": "qCX_S6c2cFqP"
      }
    },
    {
      "cell_type": "markdown",
      "source": [
        "**Objetivo**: Comparar a média da contagem de células T CD4 entre pacientes sintomáticos e assintomáticos (variável `cd40` para a contagem inicial e `symptom` para o estado de sintomas).\n",
        "\n",
        "1. Divida os dados em dois grupos: sintomáticos e assintomáticos.\n",
        "2. Formule as hipóteses:\n",
        "   - H0: As médias das contagens de células T CD4 são iguais para os grupos sintomático e assintomático.\n",
        "   - H1: As médias das contagens de células T CD4 são diferentes entre os grupos.\n",
        "3. Realize o teste t para duas amostras independentes.\n",
        "4. Analise o valor-p e tire conclusões sobre a diferença entre as médias."
      ],
      "metadata": {
        "id": "OiPrtjZLcKR6"
      }
    },
    {
      "cell_type": "code",
      "source": [
        "t.test(cd40 ~ symptom, data = ACTG175)"
      ],
      "metadata": {
        "id": "y7Y5x2j5cZCN",
        "colab": {
          "base_uri": "https://localhost:8080/",
          "height": 213
        },
        "outputId": "b330df87-e641-4d5f-9bba-bc2ff6bb1f77"
      },
      "execution_count": null,
      "outputs": [
        {
          "output_type": "display_data",
          "data": {
            "text/plain": [
              "\n",
              "\tWelch Two Sample t-test\n",
              "\n",
              "data:  cd40 by symptom\n",
              "t = 6.5084, df = 572.51, p-value = 1.661e-10\n",
              "alternative hypothesis: true difference in means between group 0 and group 1 is not equal to 0\n",
              "95 percent confidence interval:\n",
              " 28.66921 53.45177\n",
              "sample estimates:\n",
              "mean in group 0 mean in group 1 \n",
              "       357.6037        316.5432 \n"
            ]
          },
          "metadata": {}
        }
      ]
    },
    {
      "cell_type": "markdown",
      "source": [
        "## Teste de Hipótese para 2 Proporções"
      ],
      "metadata": {
        "id": "CC9aLvv_cbUb"
      }
    },
    {
      "cell_type": "markdown",
      "source": [
        "**Objetivo**: Comparar a proporção de pacientes com histórico de atividade homossexual entre os grupos de tratamento (variável `homo` para atividade homossexual e `treat` para tipo de tratamento).\n",
        "\n",
        "1. Calcule as proporções de pacientes com atividade homossexual em cada grupo de tratamento.\n",
        "2. Formule as hipóteses:\n",
        "   - H0: As proporções de atividade homossexual são iguais entre os grupos de tratamento.\n",
        "   - H1: As proporções de atividade homossexual são diferentes entre os grupos de tratamento.\n",
        "3. Use o teste para duas proporções.\n",
        "4. Avalie o valor-p e discuta as implicações do resultado para as proporções entre os grupos."
      ],
      "metadata": {
        "id": "2z1lVLV9cbEP"
      }
    },
    {
      "cell_type": "code",
      "source": [
        "prop.test(table(ACTG175$treat, ACTG175$homo))"
      ],
      "metadata": {
        "id": "SrKP4_L0cqDh"
      },
      "execution_count": null,
      "outputs": []
    },
    {
      "cell_type": "markdown",
      "source": [
        "# ANOVA"
      ],
      "metadata": {
        "id": "LWN-qUIQsgSZ"
      }
    },
    {
      "cell_type": "markdown",
      "source": [
        "## Lendo o Arquivo de Dados"
      ],
      "metadata": {
        "id": "Anmmhv-ktUnY"
      }
    },
    {
      "cell_type": "code",
      "source": [
        "input = read_excel(\"covid19.xlsx\")\n",
        "\n",
        "# Dimensão dos dados\n",
        "input %>% dim()\n",
        "\n",
        "# Primeiras linhas dos dados\n",
        "input %>% head()"
      ],
      "metadata": {
        "colab": {
          "base_uri": "https://localhost:8080/",
          "height": 304
        },
        "id": "V6NQud2GtYAT",
        "outputId": "5d3c0f63-2724-4cf0-c6c3-2b6b29d30d91"
      },
      "execution_count": null,
      "outputs": [
        {
          "output_type": "display_data",
          "data": {
            "text/html": [
              "<style>\n",
              ".list-inline {list-style: none; margin:0; padding: 0}\n",
              ".list-inline>li {display: inline-block}\n",
              ".list-inline>li:not(:last-child)::after {content: \"\\00b7\"; padding: 0 .5ex}\n",
              "</style>\n",
              "<ol class=list-inline><li>141</li><li>4</li></ol>\n"
            ],
            "text/markdown": "1. 141\n2. 4\n\n\n",
            "text/latex": "\\begin{enumerate*}\n\\item 141\n\\item 4\n\\end{enumerate*}\n",
            "text/plain": [
              "[1] 141   4"
            ]
          },
          "metadata": {}
        },
        {
          "output_type": "display_data",
          "data": {
            "text/html": [
              "<table class=\"dataframe\">\n",
              "<caption>A tibble: 6 × 4</caption>\n",
              "<thead>\n",
              "\t<tr><th scope=col>Label</th><th scope=col>Gene_Name</th><th scope=col>log2FC</th><th scope=col>Grupo</th></tr>\n",
              "\t<tr><th scope=col>&lt;chr&gt;</th><th scope=col>&lt;chr&gt;</th><th scope=col>&lt;dbl&gt;</th><th scope=col>&lt;chr&gt;</th></tr>\n",
              "</thead>\n",
              "<tbody>\n",
              "\t<tr><td>Kent_10h-IC19_10h</td><td>IFNB1 </td><td>-2.637805</td><td>Alpha/IC19</td></tr>\n",
              "\t<tr><td>Kent_10h-IC19_10h</td><td>CD274 </td><td>-2.327912</td><td>Alpha/IC19</td></tr>\n",
              "\t<tr><td>Kent_10h-IC19_10h</td><td>CXCL10</td><td>-2.089109</td><td>Alpha/IC19</td></tr>\n",
              "\t<tr><td>Kent_10h-IC19_10h</td><td>MX2   </td><td>-1.812727</td><td>Alpha/IC19</td></tr>\n",
              "\t<tr><td>Kent_10h-IC19_10h</td><td>USP18 </td><td>-1.795118</td><td>Alpha/IC19</td></tr>\n",
              "\t<tr><td>Kent_10h-IC19_10h</td><td>EPSTI1</td><td>-1.769586</td><td>Alpha/IC19</td></tr>\n",
              "</tbody>\n",
              "</table>\n"
            ],
            "text/markdown": "\nA tibble: 6 × 4\n\n| Label &lt;chr&gt; | Gene_Name &lt;chr&gt; | log2FC &lt;dbl&gt; | Grupo &lt;chr&gt; |\n|---|---|---|---|\n| Kent_10h-IC19_10h | IFNB1  | -2.637805 | Alpha/IC19 |\n| Kent_10h-IC19_10h | CD274  | -2.327912 | Alpha/IC19 |\n| Kent_10h-IC19_10h | CXCL10 | -2.089109 | Alpha/IC19 |\n| Kent_10h-IC19_10h | MX2    | -1.812727 | Alpha/IC19 |\n| Kent_10h-IC19_10h | USP18  | -1.795118 | Alpha/IC19 |\n| Kent_10h-IC19_10h | EPSTI1 | -1.769586 | Alpha/IC19 |\n\n",
            "text/latex": "A tibble: 6 × 4\n\\begin{tabular}{llll}\n Label & Gene\\_Name & log2FC & Grupo\\\\\n <chr> & <chr> & <dbl> & <chr>\\\\\n\\hline\n\t Kent\\_10h-IC19\\_10h & IFNB1  & -2.637805 & Alpha/IC19\\\\\n\t Kent\\_10h-IC19\\_10h & CD274  & -2.327912 & Alpha/IC19\\\\\n\t Kent\\_10h-IC19\\_10h & CXCL10 & -2.089109 & Alpha/IC19\\\\\n\t Kent\\_10h-IC19\\_10h & MX2    & -1.812727 & Alpha/IC19\\\\\n\t Kent\\_10h-IC19\\_10h & USP18  & -1.795118 & Alpha/IC19\\\\\n\t Kent\\_10h-IC19\\_10h & EPSTI1 & -1.769586 & Alpha/IC19\\\\\n\\end{tabular}\n",
            "text/plain": [
              "  Label             Gene_Name log2FC    Grupo     \n",
              "1 Kent_10h-IC19_10h IFNB1     -2.637805 Alpha/IC19\n",
              "2 Kent_10h-IC19_10h CD274     -2.327912 Alpha/IC19\n",
              "3 Kent_10h-IC19_10h CXCL10    -2.089109 Alpha/IC19\n",
              "4 Kent_10h-IC19_10h MX2       -1.812727 Alpha/IC19\n",
              "5 Kent_10h-IC19_10h USP18     -1.795118 Alpha/IC19\n",
              "6 Kent_10h-IC19_10h EPSTI1    -1.769586 Alpha/IC19"
            ]
          },
          "metadata": {}
        }
      ]
    },
    {
      "cell_type": "code",
      "source": [
        "table(input$Label)"
      ],
      "metadata": {
        "colab": {
          "base_uri": "https://localhost:8080/",
          "height": 71
        },
        "id": "JAL3agOu6w73",
        "outputId": "75996330-7507-4f59-e680-5eb44b67afc3"
      },
      "execution_count": null,
      "outputs": [
        {
          "output_type": "display_data",
          "data": {
            "text/plain": [
              "\n",
              " IC19_10h-VIC_10h Kent_10h-IC19_10h  Kent_10h-VIC_10h \n",
              "               47                47                47 "
            ]
          },
          "metadata": {}
        }
      ]
    },
    {
      "cell_type": "markdown",
      "source": [
        "Transformar a coluna `Grupo` em fator. Isso facilitará a análise que realizaremos."
      ],
      "metadata": {
        "id": "E9GvWXqHthOG"
      }
    },
    {
      "cell_type": "code",
      "source": [
        "input = input %>%\n",
        "  mutate(Grupo = as.factor(Grupo))\n",
        "\n",
        "input %>% head()"
      ],
      "metadata": {
        "colab": {
          "base_uri": "https://localhost:8080/",
          "height": 286
        },
        "id": "NGRzWsfhtka0",
        "outputId": "f0bf28f4-5ccd-4dde-a812-83d829caf922"
      },
      "execution_count": null,
      "outputs": [
        {
          "output_type": "display_data",
          "data": {
            "text/html": [
              "<table class=\"dataframe\">\n",
              "<caption>A tibble: 6 × 4</caption>\n",
              "<thead>\n",
              "\t<tr><th scope=col>Label</th><th scope=col>Gene_Name</th><th scope=col>log2FC</th><th scope=col>Grupo</th></tr>\n",
              "\t<tr><th scope=col>&lt;chr&gt;</th><th scope=col>&lt;chr&gt;</th><th scope=col>&lt;dbl&gt;</th><th scope=col>&lt;fct&gt;</th></tr>\n",
              "</thead>\n",
              "<tbody>\n",
              "\t<tr><td>Kent_10h-IC19_10h</td><td>IFNB1 </td><td>-2.637805</td><td>Alpha/IC19</td></tr>\n",
              "\t<tr><td>Kent_10h-IC19_10h</td><td>CD274 </td><td>-2.327912</td><td>Alpha/IC19</td></tr>\n",
              "\t<tr><td>Kent_10h-IC19_10h</td><td>CXCL10</td><td>-2.089109</td><td>Alpha/IC19</td></tr>\n",
              "\t<tr><td>Kent_10h-IC19_10h</td><td>MX2   </td><td>-1.812727</td><td>Alpha/IC19</td></tr>\n",
              "\t<tr><td>Kent_10h-IC19_10h</td><td>USP18 </td><td>-1.795118</td><td>Alpha/IC19</td></tr>\n",
              "\t<tr><td>Kent_10h-IC19_10h</td><td>EPSTI1</td><td>-1.769586</td><td>Alpha/IC19</td></tr>\n",
              "</tbody>\n",
              "</table>\n"
            ],
            "text/markdown": "\nA tibble: 6 × 4\n\n| Label &lt;chr&gt; | Gene_Name &lt;chr&gt; | log2FC &lt;dbl&gt; | Grupo &lt;fct&gt; |\n|---|---|---|---|\n| Kent_10h-IC19_10h | IFNB1  | -2.637805 | Alpha/IC19 |\n| Kent_10h-IC19_10h | CD274  | -2.327912 | Alpha/IC19 |\n| Kent_10h-IC19_10h | CXCL10 | -2.089109 | Alpha/IC19 |\n| Kent_10h-IC19_10h | MX2    | -1.812727 | Alpha/IC19 |\n| Kent_10h-IC19_10h | USP18  | -1.795118 | Alpha/IC19 |\n| Kent_10h-IC19_10h | EPSTI1 | -1.769586 | Alpha/IC19 |\n\n",
            "text/latex": "A tibble: 6 × 4\n\\begin{tabular}{llll}\n Label & Gene\\_Name & log2FC & Grupo\\\\\n <chr> & <chr> & <dbl> & <fct>\\\\\n\\hline\n\t Kent\\_10h-IC19\\_10h & IFNB1  & -2.637805 & Alpha/IC19\\\\\n\t Kent\\_10h-IC19\\_10h & CD274  & -2.327912 & Alpha/IC19\\\\\n\t Kent\\_10h-IC19\\_10h & CXCL10 & -2.089109 & Alpha/IC19\\\\\n\t Kent\\_10h-IC19\\_10h & MX2    & -1.812727 & Alpha/IC19\\\\\n\t Kent\\_10h-IC19\\_10h & USP18  & -1.795118 & Alpha/IC19\\\\\n\t Kent\\_10h-IC19\\_10h & EPSTI1 & -1.769586 & Alpha/IC19\\\\\n\\end{tabular}\n",
            "text/plain": [
              "  Label             Gene_Name log2FC    Grupo     \n",
              "1 Kent_10h-IC19_10h IFNB1     -2.637805 Alpha/IC19\n",
              "2 Kent_10h-IC19_10h CD274     -2.327912 Alpha/IC19\n",
              "3 Kent_10h-IC19_10h CXCL10    -2.089109 Alpha/IC19\n",
              "4 Kent_10h-IC19_10h MX2       -1.812727 Alpha/IC19\n",
              "5 Kent_10h-IC19_10h USP18     -1.795118 Alpha/IC19\n",
              "6 Kent_10h-IC19_10h EPSTI1    -1.769586 Alpha/IC19"
            ]
          },
          "metadata": {}
        }
      ]
    },
    {
      "cell_type": "markdown",
      "source": [
        "Vamos olhar as médias, desvios padrão e número de observações da variável de interesse (`log2FC`) em cada um dos grupos de interesse."
      ],
      "metadata": {
        "id": "E5cXU8STuBmY"
      }
    },
    {
      "cell_type": "code",
      "source": [
        "input %>%\n",
        "  group_by(Grupo) %>%\n",
        "  summarise(medias = mean(log2FC),\n",
        "            sd = sd(log2FC),\n",
        "            n = n())"
      ],
      "metadata": {
        "colab": {
          "base_uri": "https://localhost:8080/",
          "height": 192
        },
        "id": "yoXFBYYHuB-o",
        "outputId": "0bfeb6b5-fc36-4a1b-d22b-612af5e6be41"
      },
      "execution_count": null,
      "outputs": [
        {
          "output_type": "display_data",
          "data": {
            "text/html": [
              "<table class=\"dataframe\">\n",
              "<caption>A tibble: 3 × 4</caption>\n",
              "<thead>\n",
              "\t<tr><th scope=col>Grupo</th><th scope=col>medias</th><th scope=col>sd</th><th scope=col>n</th></tr>\n",
              "\t<tr><th scope=col>&lt;fct&gt;</th><th scope=col>&lt;dbl&gt;</th><th scope=col>&lt;dbl&gt;</th><th scope=col>&lt;int&gt;</th></tr>\n",
              "</thead>\n",
              "<tbody>\n",
              "\t<tr><td>Alpha/IC19</td><td>-1.0088250</td><td>0.5705705</td><td>47</td></tr>\n",
              "\t<tr><td>Alpha/VIC </td><td>-0.4853362</td><td>0.4057140</td><td>47</td></tr>\n",
              "\t<tr><td>IC19/VIC  </td><td> 0.5211961</td><td>0.5186889</td><td>47</td></tr>\n",
              "</tbody>\n",
              "</table>\n"
            ],
            "text/markdown": "\nA tibble: 3 × 4\n\n| Grupo &lt;fct&gt; | medias &lt;dbl&gt; | sd &lt;dbl&gt; | n &lt;int&gt; |\n|---|---|---|---|\n| Alpha/IC19 | -1.0088250 | 0.5705705 | 47 |\n| Alpha/VIC  | -0.4853362 | 0.4057140 | 47 |\n| IC19/VIC   |  0.5211961 | 0.5186889 | 47 |\n\n",
            "text/latex": "A tibble: 3 × 4\n\\begin{tabular}{llll}\n Grupo & medias & sd & n\\\\\n <fct> & <dbl> & <dbl> & <int>\\\\\n\\hline\n\t Alpha/IC19 & -1.0088250 & 0.5705705 & 47\\\\\n\t Alpha/VIC  & -0.4853362 & 0.4057140 & 47\\\\\n\t IC19/VIC   &  0.5211961 & 0.5186889 & 47\\\\\n\\end{tabular}\n",
            "text/plain": [
              "  Grupo      medias     sd        n \n",
              "1 Alpha/IC19 -1.0088250 0.5705705 47\n",
              "2 Alpha/VIC  -0.4853362 0.4057140 47\n",
              "3 IC19/VIC    0.5211961 0.5186889 47"
            ]
          },
          "metadata": {}
        }
      ]
    },
    {
      "cell_type": "markdown",
      "source": [
        "Observe que, aparentemente, existe diferenças nos níveis de expressão (`log2FC`) entre os diferentes diferentes grupos de indivíduos. Note também que esta é uma **impressão** que temos ao observar o gráfico abaixo. Precisamos, então, buscar mecanismos que quantifiquem apropriadamente as evidências dessas **possíveis diferenças** entre os grupos. Para isso, utilizaremos o método estatístico ANOVA."
      ],
      "metadata": {
        "id": "qtTMqqwiuS48"
      }
    },
    {
      "cell_type": "code",
      "source": [
        "input %>%\n",
        "  ggplot(aes(x=Grupo, y=log2FC, fill=Grupo)) +\n",
        "  geom_boxplot(show.legend = FALSE) +\n",
        "  geom_jitter(width=0.2, alpha=0.5, show.legend = FALSE) +\n",
        "  theme_bw()"
      ],
      "metadata": {
        "colab": {
          "base_uri": "https://localhost:8080/",
          "height": 437
        },
        "id": "ZS2QAAHruTVX",
        "outputId": "05ef2fab-72d3-4c29-85de-07cfb33df625"
      },
      "execution_count": null,
      "outputs": [
        {
          "output_type": "display_data",
          "data": {
            "text/plain": [
              "plot without title"
            ],
            "image/png": "[encoded data removed]"
          },
          "metadata": {
            "image/png": {
              "width": 420,
              "height": 420
            }
          }
        }
      ]
    },
    {
      "cell_type": "markdown",
      "source": [
        "## Determinando a Variabilidade Total"
      ],
      "metadata": {
        "id": "9gUco5ceze7M"
      }
    },
    {
      "cell_type": "markdown",
      "source": [
        "Vamos começar quantificando quanto vale a variabilidade total da variável de interesse `log2FC`. Esta variabilidade **não é** a mesma coisa que variância (para ser preciso matematicamente, a variabilidade apresentada abaixo é exatamente o numerador do que conhecemos como variância).\n",
        "\n",
        "A definição de variabilidade utilizada aqui é a soma dos quadrados dos desvios de cada observação com respeito à média daquela variável.\n",
        "\n",
        "Vejamos um passo-a-passo de como construir estes desvios:"
      ],
      "metadata": {
        "id": "tcv4M60mx6Vu"
      }
    },
    {
      "cell_type": "code",
      "source": [
        "input %>%\n",
        "  mutate(media = mean(log2FC),\n",
        "         desvio = log2FC - media) %>%\n",
        "  head()"
      ],
      "metadata": {
        "colab": {
          "base_uri": "https://localhost:8080/",
          "height": 286
        },
        "id": "8V4_265CxJDD",
        "outputId": "d89b0811-59f5-41ab-853a-ad1c74a98355"
      },
      "execution_count": null,
      "outputs": [
        {
          "output_type": "display_data",
          "data": {
            "text/html": [
              "<table class=\"dataframe\">\n",
              "<caption>A tibble: 6 × 6</caption>\n",
              "<thead>\n",
              "\t<tr><th scope=col>Label</th><th scope=col>Gene_Name</th><th scope=col>log2FC</th><th scope=col>Grupo</th><th scope=col>media</th><th scope=col>desvio</th></tr>\n",
              "\t<tr><th scope=col>&lt;chr&gt;</th><th scope=col>&lt;chr&gt;</th><th scope=col>&lt;dbl&gt;</th><th scope=col>&lt;fct&gt;</th><th scope=col>&lt;dbl&gt;</th><th scope=col>&lt;dbl&gt;</th></tr>\n",
              "</thead>\n",
              "<tbody>\n",
              "\t<tr><td>Kent_10h-IC19_10h</td><td>IFNB1 </td><td>-2.637805</td><td>Alpha/IC19</td><td>-0.3243217</td><td>-2.313484</td></tr>\n",
              "\t<tr><td>Kent_10h-IC19_10h</td><td>CD274 </td><td>-2.327912</td><td>Alpha/IC19</td><td>-0.3243217</td><td>-2.003590</td></tr>\n",
              "\t<tr><td>Kent_10h-IC19_10h</td><td>CXCL10</td><td>-2.089109</td><td>Alpha/IC19</td><td>-0.3243217</td><td>-1.764787</td></tr>\n",
              "\t<tr><td>Kent_10h-IC19_10h</td><td>MX2   </td><td>-1.812727</td><td>Alpha/IC19</td><td>-0.3243217</td><td>-1.488405</td></tr>\n",
              "\t<tr><td>Kent_10h-IC19_10h</td><td>USP18 </td><td>-1.795118</td><td>Alpha/IC19</td><td>-0.3243217</td><td>-1.470796</td></tr>\n",
              "\t<tr><td>Kent_10h-IC19_10h</td><td>EPSTI1</td><td>-1.769586</td><td>Alpha/IC19</td><td>-0.3243217</td><td>-1.445264</td></tr>\n",
              "</tbody>\n",
              "</table>\n"
            ],
            "text/markdown": "\nA tibble: 6 × 6\n\n| Label &lt;chr&gt; | Gene_Name &lt;chr&gt; | log2FC &lt;dbl&gt; | Grupo &lt;fct&gt; | media &lt;dbl&gt; | desvio &lt;dbl&gt; |\n|---|---|---|---|---|---|\n| Kent_10h-IC19_10h | IFNB1  | -2.637805 | Alpha/IC19 | -0.3243217 | -2.313484 |\n| Kent_10h-IC19_10h | CD274  | -2.327912 | Alpha/IC19 | -0.3243217 | -2.003590 |\n| Kent_10h-IC19_10h | CXCL10 | -2.089109 | Alpha/IC19 | -0.3243217 | -1.764787 |\n| Kent_10h-IC19_10h | MX2    | -1.812727 | Alpha/IC19 | -0.3243217 | -1.488405 |\n| Kent_10h-IC19_10h | USP18  | -1.795118 | Alpha/IC19 | -0.3243217 | -1.470796 |\n| Kent_10h-IC19_10h | EPSTI1 | -1.769586 | Alpha/IC19 | -0.3243217 | -1.445264 |\n\n",
            "text/latex": "A tibble: 6 × 6\n\\begin{tabular}{llllll}\n Label & Gene\\_Name & log2FC & Grupo & media & desvio\\\\\n <chr> & <chr> & <dbl> & <fct> & <dbl> & <dbl>\\\\\n\\hline\n\t Kent\\_10h-IC19\\_10h & IFNB1  & -2.637805 & Alpha/IC19 & -0.3243217 & -2.313484\\\\\n\t Kent\\_10h-IC19\\_10h & CD274  & -2.327912 & Alpha/IC19 & -0.3243217 & -2.003590\\\\\n\t Kent\\_10h-IC19\\_10h & CXCL10 & -2.089109 & Alpha/IC19 & -0.3243217 & -1.764787\\\\\n\t Kent\\_10h-IC19\\_10h & MX2    & -1.812727 & Alpha/IC19 & -0.3243217 & -1.488405\\\\\n\t Kent\\_10h-IC19\\_10h & USP18  & -1.795118 & Alpha/IC19 & -0.3243217 & -1.470796\\\\\n\t Kent\\_10h-IC19\\_10h & EPSTI1 & -1.769586 & Alpha/IC19 & -0.3243217 & -1.445264\\\\\n\\end{tabular}\n",
            "text/plain": [
              "  Label             Gene_Name log2FC    Grupo      media      desvio   \n",
              "1 Kent_10h-IC19_10h IFNB1     -2.637805 Alpha/IC19 -0.3243217 -2.313484\n",
              "2 Kent_10h-IC19_10h CD274     -2.327912 Alpha/IC19 -0.3243217 -2.003590\n",
              "3 Kent_10h-IC19_10h CXCL10    -2.089109 Alpha/IC19 -0.3243217 -1.764787\n",
              "4 Kent_10h-IC19_10h MX2       -1.812727 Alpha/IC19 -0.3243217 -1.488405\n",
              "5 Kent_10h-IC19_10h USP18     -1.795118 Alpha/IC19 -0.3243217 -1.470796\n",
              "6 Kent_10h-IC19_10h EPSTI1    -1.769586 Alpha/IC19 -0.3243217 -1.445264"
            ]
          },
          "metadata": {}
        }
      ]
    },
    {
      "cell_type": "markdown",
      "source": [
        "No código acima, criamos duas novas variáveis: `media` e `desvio`. A `media` nada mais é do que a média aritmética da variável `log2FC`. A variável `desvio` é simplesmente a diferença entre as colunas `log2FC` e `media`.\n",
        "\n",
        "Agora, para determinar a variabilidade total, precisamos apenas somar os quadrados de cada um dos desvios que calculamos acima.\n",
        "\n",
        "No código que segue, apenas para manter a clareza do que foi feito, repetiremos a criação das variáveis `media` e `desvio` e seguiremos com a determinação da variabilidade total."
      ],
      "metadata": {
        "id": "U53hLxs-yqZ-"
      }
    },
    {
      "cell_type": "code",
      "source": [
        "input %>%\n",
        "  mutate(media = mean(log2FC),\n",
        "         desvio = log2FC - media) %>%\n",
        "  summarise(variabilidade_total = sum(desvio^2))"
      ],
      "metadata": {
        "colab": {
          "base_uri": "https://localhost:8080/",
          "height": 129
        },
        "id": "gOu9tXBRzaT1",
        "outputId": "67306357-2800-4f53-afde-b127d1c39c96"
      },
      "execution_count": null,
      "outputs": [
        {
          "output_type": "display_data",
          "data": {
            "text/html": [
              "<table class=\"dataframe\">\n",
              "<caption>A tibble: 1 × 1</caption>\n",
              "<thead>\n",
              "\t<tr><th scope=col>variabilidade_total</th></tr>\n",
              "\t<tr><th scope=col>&lt;dbl&gt;</th></tr>\n",
              "</thead>\n",
              "<tbody>\n",
              "\t<tr><td>91.76329</td></tr>\n",
              "</tbody>\n",
              "</table>\n"
            ],
            "text/markdown": "\nA tibble: 1 × 1\n\n| variabilidade_total &lt;dbl&gt; |\n|---|\n| 91.76329 |\n\n",
            "text/latex": "A tibble: 1 × 1\n\\begin{tabular}{l}\n variabilidade\\_total\\\\\n <dbl>\\\\\n\\hline\n\t 91.76329\\\\\n\\end{tabular}\n",
            "text/plain": [
              "  variabilidade_total\n",
              "1 91.76329           "
            ]
          },
          "metadata": {}
        }
      ]
    },
    {
      "cell_type": "markdown",
      "source": [
        "## Ajustando a ANOVA"
      ],
      "metadata": {
        "id": "Y5GC5usSzmAy"
      }
    },
    {
      "cell_type": "markdown",
      "source": [
        "A ANOVA, representada no software R como a função `aov()`, particiona a variabilidade total dos dados (supondo que não existam grupos de indivíduos) em duas partes:\n",
        "\n",
        "*   **Parte 1**: variabilidade devida à existência de grupos conhecidos (no nosso caso, os grupos descritos pela variável `Grupo`).\n",
        "*   **Parte 2**: variabilidade devida a fatores desconhecidos (diferentes dos grupos descritos anteriormente) e que denotamos como `Erro/Resíduo`.\n",
        "\n",
        "Abaixo, executamos uma ANOVA, solicitando que particione a variabilidade total da variável `log2FC` como função da variável `Grupo` e `Erro/Resíduo` (esta parte não precisa ser descrita na função, ela é feita automaticamente).\n",
        "\n"
      ],
      "metadata": {
        "id": "xG4WgG2cvG04"
      }
    },
    {
      "cell_type": "code",
      "source": [
        "fit = aov(log2FC ~ Grupo, data = input)\n",
        "tabela_anova = fit %>%\n",
        "                 broom::tidy()\n",
        "tabela_anova"
      ],
      "metadata": {
        "colab": {
          "base_uri": "https://localhost:8080/",
          "height": 161
        },
        "id": "tIMiQzMdvHKw",
        "outputId": "6df03389-e9d9-4991-abe0-99de426ef4e5"
      },
      "execution_count": null,
      "outputs": [
        {
          "output_type": "display_data",
          "data": {
            "text/html": [
              "<table class=\"dataframe\">\n",
              "<caption>A tibble: 2 × 6</caption>\n",
              "<thead>\n",
              "\t<tr><th scope=col>term</th><th scope=col>df</th><th scope=col>sumsq</th><th scope=col>meansq</th><th scope=col>statistic</th><th scope=col>p.value</th></tr>\n",
              "\t<tr><th scope=col>&lt;chr&gt;</th><th scope=col>&lt;dbl&gt;</th><th scope=col>&lt;dbl&gt;</th><th scope=col>&lt;dbl&gt;</th><th scope=col>&lt;dbl&gt;</th><th scope=col>&lt;dbl&gt;</th></tr>\n",
              "</thead>\n",
              "<tbody>\n",
              "\t<tr><td>Grupo    </td><td>  2</td><td>56.84042</td><td>28.4202116</td><td>112.3043</td><td>1.123111e-29</td></tr>\n",
              "\t<tr><td>Residuals</td><td>138</td><td>34.92287</td><td> 0.2530643</td><td>      NA</td><td>          NA</td></tr>\n",
              "</tbody>\n",
              "</table>\n"
            ],
            "text/markdown": "\nA tibble: 2 × 6\n\n| term &lt;chr&gt; | df &lt;dbl&gt; | sumsq &lt;dbl&gt; | meansq &lt;dbl&gt; | statistic &lt;dbl&gt; | p.value &lt;dbl&gt; |\n|---|---|---|---|---|---|\n| Grupo     |   2 | 56.84042 | 28.4202116 | 112.3043 | 1.123111e-29 |\n| Residuals | 138 | 34.92287 |  0.2530643 |       NA |           NA |\n\n",
            "text/latex": "A tibble: 2 × 6\n\\begin{tabular}{llllll}\n term & df & sumsq & meansq & statistic & p.value\\\\\n <chr> & <dbl> & <dbl> & <dbl> & <dbl> & <dbl>\\\\\n\\hline\n\t Grupo     &   2 & 56.84042 & 28.4202116 & 112.3043 & 1.123111e-29\\\\\n\t Residuals & 138 & 34.92287 &  0.2530643 &       NA &           NA\\\\\n\\end{tabular}\n",
            "text/plain": [
              "  term      df  sumsq    meansq     statistic p.value     \n",
              "1 Grupo       2 56.84042 28.4202116 112.3043  1.123111e-29\n",
              "2 Residuals 138 34.92287  0.2530643       NA            NA"
            ]
          },
          "metadata": {}
        }
      ]
    },
    {
      "cell_type": "markdown",
      "source": [
        "Observe como a soma da coluna `sumsq` coincide com a variabilidade total que calculamos anteriormente. Na verdade, isso não é uma coincidência, é uma identidade matemática."
      ],
      "metadata": {
        "id": "6h10zXSxwSY6"
      }
    },
    {
      "cell_type": "code",
      "source": [
        "tabela_anova %>%\n",
        "  summarise(variabilidade_total = sum(sumsq))"
      ],
      "metadata": {
        "colab": {
          "base_uri": "https://localhost:8080/",
          "height": 129
        },
        "id": "KYvntQiTz9nz",
        "outputId": "2e363053-0577-47c3-ab88-25fc2d872ef9"
      },
      "execution_count": null,
      "outputs": [
        {
          "output_type": "display_data",
          "data": {
            "text/html": [
              "<table class=\"dataframe\">\n",
              "<caption>A tibble: 1 × 1</caption>\n",
              "<thead>\n",
              "\t<tr><th scope=col>variabilidade_total</th></tr>\n",
              "\t<tr><th scope=col>&lt;dbl&gt;</th></tr>\n",
              "</thead>\n",
              "<tbody>\n",
              "\t<tr><td>91.76329</td></tr>\n",
              "</tbody>\n",
              "</table>\n"
            ],
            "text/markdown": "\nA tibble: 1 × 1\n\n| variabilidade_total &lt;dbl&gt; |\n|---|\n| 91.76329 |\n\n",
            "text/latex": "A tibble: 1 × 1\n\\begin{tabular}{l}\n variabilidade\\_total\\\\\n <dbl>\\\\\n\\hline\n\t 91.76329\\\\\n\\end{tabular}\n",
            "text/plain": [
              "  variabilidade_total\n",
              "1 91.76329           "
            ]
          },
          "metadata": {}
        }
      ]
    },
    {
      "cell_type": "markdown",
      "source": [
        "O que entendemos do resultado da ANOVA é que nossos dados possuem uma variabilidade total de, aproximadamente, 91.76 unidades. Destas 91.76, observamos que 56.84 são devidas à existência dos três grupos definidos pela variável `Grupo` de nossa tabela de dados. As outras 34.92 unidades são devidas a outros fatores **desconhecidos**, que neste momento chamaremos de erros ou resíduos.\n",
        "\n",
        "Agora, ao compararmos a variabilidade devida aos grupos (56.84) com a variabilidade residual (34.92), ficamos com a seguinte pergunta: **existem diferenças significativas entre os grupos apresentados?**\n",
        "\n",
        "Para quantificar as evidências, podemos verificar o p-valor associado à ANOVA (repetiremos a tabela de ANOVA para sua conveniência):"
      ],
      "metadata": {
        "id": "kq-Wyw6F0elc"
      }
    },
    {
      "cell_type": "code",
      "source": [
        "tabela_anova"
      ],
      "metadata": {
        "colab": {
          "base_uri": "https://localhost:8080/",
          "height": 161
        },
        "id": "L3ZIy9Cd1dWM",
        "outputId": "c77f5a00-98c5-4e68-b1d7-0a9f7646ddfe"
      },
      "execution_count": null,
      "outputs": [
        {
          "output_type": "display_data",
          "data": {
            "text/html": [
              "<table class=\"dataframe\">\n",
              "<caption>A tibble: 2 × 6</caption>\n",
              "<thead>\n",
              "\t<tr><th scope=col>term</th><th scope=col>df</th><th scope=col>sumsq</th><th scope=col>meansq</th><th scope=col>statistic</th><th scope=col>p.value</th></tr>\n",
              "\t<tr><th scope=col>&lt;chr&gt;</th><th scope=col>&lt;dbl&gt;</th><th scope=col>&lt;dbl&gt;</th><th scope=col>&lt;dbl&gt;</th><th scope=col>&lt;dbl&gt;</th><th scope=col>&lt;dbl&gt;</th></tr>\n",
              "</thead>\n",
              "<tbody>\n",
              "\t<tr><td>Grupo    </td><td>  2</td><td>56.84042</td><td>28.4202116</td><td>112.3043</td><td>1.123111e-29</td></tr>\n",
              "\t<tr><td>Residuals</td><td>138</td><td>34.92287</td><td> 0.2530643</td><td>      NA</td><td>          NA</td></tr>\n",
              "</tbody>\n",
              "</table>\n"
            ],
            "text/markdown": "\nA tibble: 2 × 6\n\n| term &lt;chr&gt; | df &lt;dbl&gt; | sumsq &lt;dbl&gt; | meansq &lt;dbl&gt; | statistic &lt;dbl&gt; | p.value &lt;dbl&gt; |\n|---|---|---|---|---|---|\n| Grupo     |   2 | 56.84042 | 28.4202116 | 112.3043 | 1.123111e-29 |\n| Residuals | 138 | 34.92287 |  0.2530643 |       NA |           NA |\n\n",
            "text/latex": "A tibble: 2 × 6\n\\begin{tabular}{llllll}\n term & df & sumsq & meansq & statistic & p.value\\\\\n <chr> & <dbl> & <dbl> & <dbl> & <dbl> & <dbl>\\\\\n\\hline\n\t Grupo     &   2 & 56.84042 & 28.4202116 & 112.3043 & 1.123111e-29\\\\\n\t Residuals & 138 & 34.92287 &  0.2530643 &       NA &           NA\\\\\n\\end{tabular}\n",
            "text/plain": [
              "  term      df  sumsq    meansq     statistic p.value     \n",
              "1 Grupo       2 56.84042 28.4202116 112.3043  1.123111e-29\n",
              "2 Residuals 138 34.92287  0.2530643       NA            NA"
            ]
          },
          "metadata": {}
        }
      ]
    },
    {
      "cell_type": "markdown",
      "source": [
        "O p-valor associado está representado em notação científica (1.123e-29) e pode ser um pouco difícil de ser compreendido. Precisamos lembrar que esta representação (para este valor específico) indica que temos 28 casas decimais iguais a zero antes do primeiro dígito 1 apresentado. Ou seja, o p-valor é:\n",
        "\n",
        "\\begin{equation}\n",
        "p = 0.00000000000000000000000000001123\n",
        "\\end{equation}\n",
        "\n",
        "Lembremos que a hipótese testada na ANOVA é **não existem diferenças entre os grupos apresentados** e comparemos também com a definição de p-valor para chegarmos à seguinte conclusão:\n",
        "\n",
        "**Se assumirmos que não existem diferenças entre os grupos apresentados, temos uma probabilidade extremamente pequena (1.123e-29) de obtermos estatísticas pelo menos tão extremas quanto às da nossa ANOVA. Portanto, temos evidências para rejeitar a hipótese de inexistência de diferenças entre os grupos.**"
      ],
      "metadata": {
        "id": "VlXCe8He1fWN"
      }
    },
    {
      "cell_type": "markdown",
      "source": [
        "## Onde estão as diferenças?"
      ],
      "metadata": {
        "id": "v18tNooh2_od"
      }
    },
    {
      "cell_type": "markdown",
      "source": [
        "Com a ANOVA realizada acima, identificamos que existe pelo menos uma diferença entre os três grupos testados. Observe que a ANOVA **não indica** qual grupo é diferente de qual. Ou seja, sabemos que existe alguma diferença entre `Alpha/IC19`, `Alpha/VIC` e `IC19/VIC`. Mas não sabemos se as diferença residem entre (`Alpha/IC19` vs. `Alpha/VIC`) ou (`Alpha/IC19` vs. `IC19/VIC`) ou (`Alpha/VIC` vs. `IC19/VIC`).\n",
        "\n",
        "Para buscar quais são as diferenças significativas nas comparações 2-a-2, precisamos realizar testes adicionais."
      ],
      "metadata": {
        "id": "38reZOqFyvDh"
      }
    },
    {
      "cell_type": "markdown",
      "source": [
        "### Testes 2-a-2 com Correção de Bonferroni"
      ],
      "metadata": {
        "id": "4QVRBCff0EM7"
      }
    },
    {
      "cell_type": "markdown",
      "source": [
        "Uma estratégia é utilizarmos testes-*t* para fazermos todas as comparações possíveis entre 2 grupos. Essencialmente, considerando que temos 3 grupos genéricos (A, B e C), esta estratégia realiza testes de hipótese para todas as combinações listadas abaixo:\n",
        "\n",
        "*  A vs. B\n",
        "*  A vs. C\n",
        "*  B vs. C\n",
        "\n",
        "Lembre-se que, em testes de hipótese, discutimos a existência de dois tipos de erro:\n",
        "\n",
        "*  Erro Tipo I ($\\alpha$): Rejeitar a hipótese nula, quando ela é verdadeira. No nosso exemplo, isso é equivalente a dizer que existe diferença entre dois grupos quando, na verdade, os dois grupos são iguais. Chamamos isso de **falso positivo**.\n",
        "*  Erro Tipo II ($\\beta$): Não rejeitar a hipótese nula, quando ela é falsa. No nosso exemplo, isso é equivalente a dizer que não há diferença entre dois grupos quando, na verdade, os dois grupos são diferentes. Chamamos isso de **falso negativo**.\n",
        "\n",
        "Observe que, quando realizamos 3 testes de hipóteses conjuntamente, a probabilidade do Erro Tipo I é inflada. Isto é, a probabilidade de falso positivo (ao testar 3 hipóteses conjuntamente) é a soma das seguintes probabilidades:\n",
        "\n",
        "1. Errar apenas o 1o. teste\n",
        "2. Errar apenas o 2o. teste\n",
        "3. Errar apenas o 3o. teste\n",
        "4. Errar o 1o. e o 2o. testes\n",
        "5. Errar o 1o. e o 3o. testes\n",
        "6. Errar o 2o. e o 3o. testes\n",
        "7. Errar o 1o., o 2o. e o 3o. testes\n",
        "\n",
        "Calcular todas essas probabilidades separadamente não é trivial. Mas observe que o que estamos calculando é a probabilidade de, **pelo menos**, 1 Erro Tipo I. No nosso exemplo de 3 testes de hipótese, observando a listagem acima, vemos que:\n",
        "\n",
        "* os casos 1-3 representam \"errar exatamente 1 teste\"\n",
        "* os casos 4-6 representam \"errar exatamente 2 testes\"\n",
        "* o caso 7 representa \"errar exatamente 3 testes\"\n",
        "\n",
        "Se definirmos que $E$ representa o número de erros (Erros Tipo I) que podemos cometer ao testarmos 3 hipóteses simultaneamente, observe que temos a seguinte identidade:\n",
        "\n",
        "\\begin{eqnarray*}\n",
        "P(E = 0) + P(E = 1) + P(E = 2) + P(E = 3) & = & 1 \\\\\n",
        "P(E = 0) + P(E \\geq 1) & = & 1 \\\\\n",
        "P(E \\geq 1) & = & 1 - P(E = 0).\n",
        "\\end{eqnarray*}\n",
        "\n",
        "Dessa maneira, notemos que para termos zero Erros Tipo I, precisamos tomar a decisão correta nos 3 testes realizados. Sabendo que a probabilidade do Erro Tipo I para um teste de hipótese é $\\alpha$, então a probabilidade de não cometer um Erro Tipo I é, consequentemente, $(1-\\alpha)$. Desta maneira, temos:\n",
        "\n",
        "\\begin{eqnarray*}\n",
        "P(E = 0) & = & (1 - \\alpha) \\times (1 - \\alpha) \\times (1 - \\alpha) \\\\\n",
        "& = & (1 - \\alpha)^3 \\\\\n",
        "P(E \\geq 1) & = & 1 - P(E = 0) \\\\\n",
        "& = & 1 - (1-\\alpha)^3\n",
        "\\end{eqnarray*}\n",
        "\n",
        "Neste longo exemplo, se assumirmos $\\alpha = 0.05$, então a probabilidade de pelo menos 1 Erro Tipo I (ao testarmos 3 hipóteses simultaneamente) seria 0.1426. Ou seja, o erro máximo inicialmente aceito era de 5%, mas depois de testar 3 hipóteses simultaneamente, ele aumenta para a casa de 14%."
      ],
      "metadata": {
        "id": "VImCZcT20OI9"
      }
    },
    {
      "cell_type": "code",
      "source": [
        "pairwise.t.test(input$log2FC,\n",
        "                input$Grupo,\n",
        "                \"bonferroni\")"
      ],
      "metadata": {
        "colab": {
          "base_uri": "https://localhost:8080/",
          "height": 196
        },
        "id": "hWVCeuz1yq7Q",
        "outputId": "ce298e97-8770-4e33-d93f-b63530dac8d1"
      },
      "execution_count": null,
      "outputs": [
        {
          "output_type": "display_data",
          "data": {
            "text/plain": [
              "\n",
              "\tPairwise comparisons using t tests with pooled SD \n",
              "\n",
              "data:  input$log2FC and input$Grupo \n",
              "\n",
              "          Alpha/IC19 Alpha/VIC\n",
              "Alpha/VIC 4.2e-06    -        \n",
              "IC19/VIC  < 2e-16    < 2e-16  \n",
              "\n",
              "P value adjustment method: bonferroni "
            ]
          },
          "metadata": {}
        }
      ]
    },
    {
      "cell_type": "code",
      "source": [
        "pairwise.t.test(input$log2FC,\n",
        "                input$Grupo,\n",
        "                \"bonferroni\")\n",
        "\n",
        "library(multcomp)\n",
        "K = rbind('A-B' = c(1, -1,  0),\n",
        "          'A-C' = c(1,  0, -1),\n",
        "          'B-C' = c(0,  1, -1))\n",
        "ht = glht(fit, linfct = mcp(Grupo = K))\n",
        "bonf = summary(ht, test = adjusted(\"bonferroni\"))\n",
        "confint(bonf)"
      ],
      "metadata": {
        "id": "KJVn5UHI19aa"
      },
      "execution_count": null,
      "outputs": []
    }
  ]
}